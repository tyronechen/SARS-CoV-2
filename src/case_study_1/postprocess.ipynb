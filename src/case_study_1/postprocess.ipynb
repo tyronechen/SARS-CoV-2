{
 "cells": [
  {
   "cell_type": "markdown",
   "metadata": {},
   "source": [
    "# Postprocess SARS-Cov-2 data and compare results with original study\n",
    "\n",
    "This notebook is provided as a case study for our pipeline. For a second case study with a larger quantity of omics data and samples, view the `src/case_study_2` directory and associated files. Full details of the original study can be found in the original publication:\n",
    "\n",
    "*Bojkova, D., Klann, K., Koch, B. et al. Proteomics of SARS-CoV-2-infected host cells reveals therapy targets. Nature 583, 469–472 (2020).* [https://doi.org/10.1038/s41586-020-2332-7](https://doi.org/10.1038/s41586-020-2332-7)\n",
    "\n",
    "Authors provided a set of excel spreadsheets which contain the multi omics data. \n",
    "- [Supplementary table 1: Translatome](https://static-content.springer.com/esm/art%3A10.1038%2Fs41586-020-2332-7/MediaObjects/41586_2020_2332_MOESM2_ESM.xlsx)\n",
    "- [Supplementary table 2: Proteome](https://static-content.springer.com/esm/art%3A10.1038%2Fs41586-020-2332-7/MediaObjects/41586_2020_2332_MOESM3_ESM.xlsx)\n",
    "\n",
    "This source data is also included in this repository.\n",
    "\n",
    "Tables were saved as individual `data/case_study_1/proteome.txt` and `data/case_study_1/translatome.txt` files directly from the spreadsheet with tab separated values. No changes to content were made.\n",
    "\n",
    "## Summary of the original study\n",
    "\n",
    "The authors investigated the proteome (global protein levels) and translatome (proteins at time of translation) of a human cell line infected with SARS-CoV-2. Protein levels were measured at multiple time points. We apply our pipeline to integrate the two omics data in this experiment as a case study.\n",
    "\n",
    "## Summary of our analysis\n",
    "We integrated proteomics and translatomics data for 24 samples. 8 classes were included: `covid states` vs `non-covid states` at multiple timepoints. Classes are balanced but there are repeated measurements in this experiment. This jupyter notebook describes the steps taken to download and parse the input data as well as metadata, resulting in matrices of continuous values suitable for input into our pipeline."
   ]
  },
  {
   "cell_type": "code",
   "execution_count": 1,
   "metadata": {},
   "outputs": [],
   "source": [
    "import matplotlib.pyplot as plt\n",
    "from matplotlib.lines import Line2D\n",
    "import numpy as np\n",
    "import pandas as pd"
   ]
  },
  {
   "cell_type": "code",
   "execution_count": 2,
   "metadata": {},
   "outputs": [
    {
     "name": "stdout",
     "output_type": "stream",
     "text": [
      "Unique significant features in proteome: 2570\n",
      "Unique significant features in translatome: 387\n"
     ]
    }
   ],
   "source": [
    "# load original data\n",
    "infile_prot = \"../../data/case_study_1/proteome.txt\"\n",
    "infile_tran = \"../../data/case_study_1/translatome.txt\"\n",
    "fig_outfile = \"../../results/manuscript_figures/case_1_compare.pdf\"\n",
    "prot = pd.read_csv(infile_prot, sep=\"\\t\", index_col=0)\n",
    "tran = pd.read_csv(infile_tran, sep=\"\\t\", index_col=0)\n",
    "prot = prot[prot.columns[-4:]]\n",
    "tran = tran[tran.columns[-4:]]\n",
    "\n",
    "# load our data\n",
    "infile_data = \"../../results/case_study_1/multiblock_correlations_annotated.tsv\"\n",
    "data = pd.read_csv(infile_data, sep=\"\\t\")\n",
    "\n",
    "# data in original publication where fdr <= 0.05\n",
    "prot = prot[prot <= 0.05].dropna(how=\"all\")\n",
    "prot.columns = [\"P value 2h\", \"P value 6h\", \"P value 10h\", \"P value 24h\"]\n",
    "prot_index = prot.index.tolist()\n",
    "prot_index = [x.split(\";\")[0] for x in prot_index]\n",
    "prot_index = [x.split(\"_\")[0] for x in prot_index]\n",
    "prot_index = [x.split(\" \")[0] for x in prot_index]\n",
    "prot_index = pd.DataFrame(pd.Series(list(set(prot_index))))\n",
    "prot_count = str(prot_index.shape[0])\n",
    "\n",
    "# data in original publication where fdr <= 0.05\n",
    "tran = tran.replace(\"#DIV/0!\", np.nan)\n",
    "tran = tran.astype(np.float64)\n",
    "tran = tran[tran <= 0.05].dropna(how=\"all\")\n",
    "tran_index = tran.index.tolist()\n",
    "tran_index = [x.split(\";\")[0] for x in tran_index]\n",
    "tran_index = [x.split(\"_\")[0] for x in tran_index]\n",
    "tran_index = [x.split(\" \")[0] for x in tran_index]\n",
    "tran_index = pd.DataFrame(pd.Series(list(set(tran_index))))\n",
    "tran_count = str(tran_index.shape[0])\n",
    "\n",
    "print(\"Unique significant features in proteome:\", prot_count)\n",
    "print(\"Unique significant features in translatome:\", tran_count)\n",
    "\n",
    "prot_tran_data = pd.concat([prot, tran])\n",
    "prot_tran_index = pd.concat([prot_index, tran_index])"
   ]
  },
  {
   "cell_type": "code",
   "execution_count": 3,
   "metadata": {},
   "outputs": [
    {
     "name": "stdout",
     "output_type": "stream",
     "text": [
      "Unique highly correlated features in integrated data: 170\n"
     ]
    }
   ],
   "source": [
    "# a list of unique highly correlating features from our reanalysis\n",
    "features = data[(data[\"correlation\"] >= 0.5) | \n",
    "                (data[\"correlation\"] <= -0.5)]\n",
    "features = features[[\"translatome\", \"proteome\"]]\n",
    "features = features.melt().value.unique().tolist()\n",
    "features = [x.split(\"_\") for x in features]\n",
    "features = [x for y in features for x in y]\n",
    "features = pd.DataFrame(pd.Series(list(set(features))))\n",
    "feat_count = str(features.shape[0])\n",
    "print(\"Unique highly correlated features in integrated data:\", feat_count)"
   ]
  },
  {
   "cell_type": "markdown",
   "metadata": {},
   "source": [
    "## Compare our highly correlating multi-omics feature values to authors (features ranked by two-sided, unpaired t-test with equal variance assumed)\n",
    "\n",
    "We show that our highly correlated multi-omics features overlap with highly-scoring features identified by differential abundance measurements in the original analysis (two-sided, unpaired t-test with equal variance assumed). First, we filtered this list by removing all features which were below or equal to a p-value threshold of 0.05. Next, we matched the features we discovered through our pipeline to these features found implicated as significantly differentially abundant in the original analysis. We find that the median of our subset of 170 features fall below the median p-value scores identified in the original analysis. In particular, our pipeline recovers SRSF10, MAVS and GSTP1 which were an important proteins associated with key pathways highlighted by the original study () due to their roles in pre-mRNA processing pathways essential for SARS-CoV-2 replication, viral processes and apoptotic regulation respectively.  Therefore, we show that our pipeline independently recapitulates some of the more significant features from a conceptually unrelated method.\n",
    "\n",
    "Our list of features is comparatively small compared to the full range of significant features identified by thee original study. However, we note that our approach works by selecting subsets of features with cross-validation. When contrasted against the original data, a subset of the most informative features were selected. Furthermore, our generic pipeline is shown to partially recapitulate results obtained from a conceptually unrelated method. Therefore, we demonstrate that our aim of providing an agnostic, flexible pipeline for analysing multi-omics data is met."
   ]
  },
  {
   "cell_type": "code",
   "execution_count": 4,
   "metadata": {},
   "outputs": [
    {
     "data": {
      "image/png": "[encoded data removed]",
      "text/plain": [
       "<Figure size 432x288 with 1 Axes>"
      ]
     },
     "metadata": {
      "needs_background": "light"
     },
     "output_type": "display_data"
    },
    {
     "name": "stdout",
     "output_type": "stream",
     "text": [
      "Features below a p value of 0.05 in original analysis (of all features)=5.749070003381806 %\n",
      "Blue = our features: 170 | Orange = authors features: 2957\n"
     ]
    }
   ],
   "source": [
    "# our highly correlating features matching original differential analysis\n",
    "prot_tran_data = prot_tran_index.merge(features, left_on=0, right_on=0)\n",
    "prot_tran = pd.concat([prot, tran])\n",
    "prot_tran_data = prot_tran_data.merge(prot_tran, left_on=0, right_index=True)\n",
    "prot_tran_data.set_index(0, inplace=True)\n",
    "prot_tran_data\n",
    "prot_tran = prot.melt()\n",
    "prot_tran.columns = [\"index\", \"P value\"]\n",
    "prot_tran.boxplot(color=\"orange\", showfliers=True)\n",
    "prot_tran_data = prot_tran_data.melt()\n",
    "prot_tran_data.columns = [\"index\", \"P value\"]\n",
    "prot_tran_data.boxplot(color=\"blue\", showbox=True, showfliers=True)\n",
    "plt.title(\"p-value of features identified in original analysis\")\n",
    "custom_lines = [Line2D([0], [0], color=\"orange\", lw=4),\n",
    "                Line2D([0], [0], color=\"blue\", lw=4)]\n",
    "plt.legend(custom_lines, [\"Original\", \"Reanalysed\"])\n",
    "plt.ylabel(\"p-values\")\n",
    "plt.savefig(fname=fig_outfile, dpi=300)\n",
    "plt.show()\n",
    "\n",
    "percent_significant = str(int(feat_count) /\n",
    "                          (int(prot_count) + int(tran_count)) *\n",
    "                          100)\n",
    "print(\"\".join([\"Features below a p value of 0.05 in original analysis (of all features)=\",\n",
    "              percent_significant, \" %\"]))\n",
    "print(\"Blue = our features: 170 | Orange = authors features: 2957\")"
   ]
  },
  {
   "cell_type": "code",
   "execution_count": 5,
   "metadata": {},
   "outputs": [
    {
     "data": {
      "text/html": [
       "<div>\n",
       "<style scoped>\n",
       "    .dataframe tbody tr th:only-of-type {\n",
       "        vertical-align: middle;\n",
       "    }\n",
       "\n",
       "    .dataframe tbody tr th {\n",
       "        vertical-align: top;\n",
       "    }\n",
       "\n",
       "    .dataframe thead th {\n",
       "        text-align: right;\n",
       "    }\n",
       "</style>\n",
       "<table border=\"1\" class=\"dataframe\">\n",
       "  <thead>\n",
       "    <tr style=\"text-align: right;\">\n",
       "      <th></th>\n",
       "      <th>0</th>\n",
       "      <th>name</th>\n",
       "      <th>annot</th>\n",
       "    </tr>\n",
       "  </thead>\n",
       "  <tbody>\n",
       "    <tr>\n",
       "      <th>0</th>\n",
       "      <td>P32004</td>\n",
       "      <td>L1CAM</td>\n",
       "      <td>Neural cell adhesion molecule L1;L1CAM;ortholog</td>\n",
       "    </tr>\n",
       "    <tr>\n",
       "      <th>1</th>\n",
       "      <td>P31948</td>\n",
       "      <td>STIP1</td>\n",
       "      <td>Stress-induced-phosphoprotein 1;STIP1;ortholog</td>\n",
       "    </tr>\n",
       "    <tr>\n",
       "      <th>2</th>\n",
       "      <td>Q2M2H8</td>\n",
       "      <td>NaN</td>\n",
       "      <td>NaN</td>\n",
       "    </tr>\n",
       "    <tr>\n",
       "      <th>3</th>\n",
       "      <td>Q9NVI1</td>\n",
       "      <td>FANCI</td>\n",
       "      <td>Fanconi anemia group I protein;FANCI;ortholog</td>\n",
       "    </tr>\n",
       "    <tr>\n",
       "      <th>4</th>\n",
       "      <td>Q9H1X3</td>\n",
       "      <td>NaN</td>\n",
       "      <td>NaN</td>\n",
       "    </tr>\n",
       "    <tr>\n",
       "      <th>...</th>\n",
       "      <td>...</td>\n",
       "      <td>...</td>\n",
       "      <td>...</td>\n",
       "    </tr>\n",
       "    <tr>\n",
       "      <th>165</th>\n",
       "      <td>Q8WWK9</td>\n",
       "      <td>NaN</td>\n",
       "      <td>NaN</td>\n",
       "    </tr>\n",
       "    <tr>\n",
       "      <th>166</th>\n",
       "      <td>O75643</td>\n",
       "      <td>SNRNP200</td>\n",
       "      <td>U5 small nuclear ribonucleoprotein 200 kDa hel...</td>\n",
       "    </tr>\n",
       "    <tr>\n",
       "      <th>167</th>\n",
       "      <td>Q8WUX9</td>\n",
       "      <td>CHMP7</td>\n",
       "      <td>Charged multivesicular body protein 7;CHMP7;or...</td>\n",
       "    </tr>\n",
       "    <tr>\n",
       "      <th>168</th>\n",
       "      <td>O43663</td>\n",
       "      <td>PRC1</td>\n",
       "      <td>Protein regulator of cytokinesis 1;PRC1;ortholog</td>\n",
       "    </tr>\n",
       "    <tr>\n",
       "      <th>169</th>\n",
       "      <td>Q9NPE3</td>\n",
       "      <td>NOP10</td>\n",
       "      <td>H/ACA ribonucleoprotein complex subunit 3;NOP1...</td>\n",
       "    </tr>\n",
       "  </tbody>\n",
       "</table>\n",
       "<p>153 rows × 3 columns</p>\n",
       "</div>"
      ],
      "text/plain": [
       "          0      name                                              annot\n",
       "0    P32004     L1CAM    Neural cell adhesion molecule L1;L1CAM;ortholog\n",
       "1    P31948     STIP1     Stress-induced-phosphoprotein 1;STIP1;ortholog\n",
       "2    Q2M2H8       NaN                                                NaN\n",
       "3    Q9NVI1     FANCI      Fanconi anemia group I protein;FANCI;ortholog\n",
       "4    Q9H1X3       NaN                                                NaN\n",
       "..      ...       ...                                                ...\n",
       "165  Q8WWK9       NaN                                                NaN\n",
       "166  O75643  SNRNP200  U5 small nuclear ribonucleoprotein 200 kDa hel...\n",
       "167  Q8WUX9     CHMP7  Charged multivesicular body protein 7;CHMP7;or...\n",
       "168  O43663      PRC1   Protein regulator of cytokinesis 1;PRC1;ortholog\n",
       "169  Q9NPE3     NOP10  H/ACA ribonucleoprotein complex subunit 3;NOP1...\n",
       "\n",
       "[153 rows x 3 columns]"
      ]
     },
     "execution_count": 5,
     "metadata": {},
     "output_type": "execute_result"
    }
   ],
   "source": [
    "# examine annotated significant features overlapping with original study\n",
    "x = data[data.columns[1:4]]\n",
    "x.columns = [\"id\", \"name\", \"annot\"]\n",
    "y = data[data.columns[5:8]]\n",
    "y.columns = [\"id\", \"name\", \"annot\"]\n",
    "annot = pd.concat([x, y]).set_index(\"id\")\n",
    "annot = features.merge(annot, left_on=0, right_index=True)\n",
    "annot.drop_duplicates()"
   ]
  },
  {
   "cell_type": "code",
   "execution_count": null,
   "metadata": {},
   "outputs": [],
   "source": []
  }
 ],
 "metadata": {
  "kernelspec": {
   "display_name": "Python 3",
   "language": "python",
   "name": "python3"
  },
  "language_info": {
   "codemirror_mode": {
    "name": "ipython",
    "version": 3
   },
   "file_extension": ".py",
   "mimetype": "text/x-python",
   "name": "python",
   "nbconvert_exporter": "python",
   "pygments_lexer": "ipython3",
   "version": "3.8.2"
  }
 },
 "nbformat": 4,
 "nbformat_minor": 4
}
