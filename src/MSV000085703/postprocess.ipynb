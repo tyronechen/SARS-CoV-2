{
 "cells": [
  {
   "cell_type": "markdown",
   "metadata": {},
   "source": [
    "# Postprocessing data from the reanalysis of the COVID-19 multiomics project\n",
    "\n",
    "As part of the case study associated with the data found in https://dx.doi.org/10.1101%2F2020.07.17.20156513, we compare the features discovered by the authors and us.\n",
    "\n",
    "## Summary of our analysis\n",
    "\n",
    "With our pipeline, we analysed the omics data from the original publication, comparing the severity of COVID-19 states (less severe vs more severe) according to the previously described `HFD-45` metric by the authors. We obtained informative features both within and across the omics data. Then, we compare the features identified from our single-omics analyses, multi-omics analyses, and the authors results."
   ]
  },
  {
   "cell_type": "code",
   "execution_count": 1,
   "metadata": {},
   "outputs": [],
   "source": [
    "import os\n",
    "import re\n",
    "import matplotlib.pyplot as plt\n",
    "import pandas as pd\n",
    "import seaborn as sns"
   ]
  },
  {
   "cell_type": "code",
   "execution_count": 2,
   "metadata": {},
   "outputs": [],
   "source": [
    "# setup all file paths\n",
    "data_dir = \"../../data/MSV000085703/\"\n",
    "results_dir = \"../../results/MSV000085703/reformatted_output/\"\n",
    "\n",
    "features_path = \"/\".join([\"../../results/MSV000085703/supp_info/\", \"informative_features.txt\"])\n",
    "unknowns_path = \"/\".join([\"../../results/MSV000085703/supp_info/\", \"putative_unknowns.txt\"])\n",
    "feature_importance_all_path = \"/\".join([\"../../results/MSV000085703/supp_info/\", \"feature_importance_all.txt\"])\n",
    "\n",
    "l_fmap_path = \"/\".join([data_dir, \"lipidomics_featuremap.tsv\"]) \n",
    "md_fmap_path = \"/\".join([data_dir, \"metabolomicsdiscovery_featuremap.tsv\"]) \n",
    "mt_fmap_path = \"/\".join([data_dir, \"metabolomicstargeted_featuremap.tsv\"]) \n",
    "p_fmap_path = \"/\".join([data_dir, \"proteomics_featuremap.tsv\"]) \n",
    "t_fmap_path = \"/\".join([data_dir, \"transcriptomics_featuremap.tsv\"]) \n",
    "\n",
    "l_splsda_path = \"/\".join([results_dir, \"lipidome_sPLSDA_max.txt\"])\n",
    "m_splsda_path = \"/\".join([results_dir, \"metabolome_sPLSDA_max.txt\"])\n",
    "p_splsda_path = \"/\".join([results_dir, \"proteome_sPLSDA_max.txt\"])\n",
    "t_splsda_path = \"/\".join([results_dir, \"transcriptome_sPLSDA_max.txt\"])\n",
    "\n",
    "l_diablo_path = \"/\".join([results_dir, \"lipidome_DIABLO_max.txt\"])\n",
    "m_diablo_path = \"/\".join([results_dir, \"metabolome_DIABLO_max.txt\"])\n",
    "p_diablo_path = \"/\".join([results_dir, \"proteome_DIABLO_max.txt\"])\n",
    "t_diablo_path = \"/\".join([results_dir, \"transcriptome_DIABLO_max.txt\"])\n",
    "\n",
    "diablo_path = \"/\".join([results_dir, \"DIABLO_var_keepx_correlations.txt\"])"
   ]
  },
  {
   "cell_type": "code",
   "execution_count": 3,
   "metadata": {},
   "outputs": [],
   "source": [
    "# load the single omics data\n",
    "l_splsda = pd.read_csv(l_splsda_path, sep=\"\\t\")\n",
    "m_splsda = pd.read_csv(m_splsda_path, sep=\"\\t\")\n",
    "p_splsda = pd.read_csv(p_splsda_path, sep=\"\\t\")\n",
    "t_splsda = pd.read_csv(t_splsda_path, sep=\"\\t\")\n",
    "\n",
    "# load the multi omics data\n",
    "l_diablo = pd.read_csv(l_diablo_path, sep=\"\\t\")\n",
    "m_diablo = pd.read_csv(m_diablo_path, sep=\"\\t\")\n",
    "p_diablo = pd.read_csv(p_diablo_path, sep=\"\\t\")\n",
    "t_diablo = pd.read_csv(t_diablo_path, sep=\"\\t\")\n",
    "\n",
    "# load the diablo correlations\n",
    "diablo = pd.read_csv(diablo_path, sep=\"\\t\")"
   ]
  },
  {
   "cell_type": "code",
   "execution_count": 4,
   "metadata": {},
   "outputs": [],
   "source": [
    "# for technical reasons, we shortened names\n",
    "# we saved the mappings before running the pipeline, now we remap them\n",
    "l_fmap = pd.read_csv(l_fmap_path, sep=\"\\t\")[[\"short\", \"long\"]].set_index(\"short\")\n",
    "md_fmap = pd.read_csv(md_fmap_path, sep=\"\\t\")[[\"short\", \"long\"]].set_index(\"short\")\n",
    "mt_fmap = pd.read_csv(mt_fmap_path, sep=\"\\t\")[[\"short\", \"long\"]].set_index(\"short\")\n",
    "p_fmap = pd.read_csv(p_fmap_path, sep=\"\\t\")[[\"short\", \"long\"]].set_index(\"short\")\n",
    "t_fmap = pd.read_csv(t_fmap_path, sep=\"\\t\")[[\"short\", \"long\"]].set_index(\"short\")\n",
    "fmap = pd.concat([l_fmap, md_fmap, mt_fmap, p_fmap, t_fmap])\n",
    "fmap.index.name = None\n",
    "\n",
    "# R quietly converts non-alphanumeric characters in feature names to \".\"\n",
    "# we need to match these changes in order to remap\n",
    "fmap.index = [re.sub('[^0-9a-zA-Z_]', '.', x) for x in fmap.index]"
   ]
  },
  {
   "cell_type": "code",
   "execution_count": 5,
   "metadata": {},
   "outputs": [
    {
     "data": {
      "text/plain": [
       "[(14, 2), (16, 2), (13, 2), (37, 2)]"
      ]
     },
     "execution_count": 5,
     "metadata": {},
     "output_type": "execute_result"
    }
   ],
   "source": [
    "def remap_identifiers(data, keys):\n",
    "    data = keys.merge(data, left_index=True, right_index=True, how=\"right\")\n",
    "    data.set_index(\"long\", inplace=True)\n",
    "    data.sort_values(\"importance\", inplace=True, ascending=False)\n",
    "    data.index.name = None\n",
    "    return data[[\"GroupContrib\", \"importance\"]]\n",
    "\n",
    "singleomics = [remap_identifiers(x, fmap) for x in [l_splsda, m_splsda, p_splsda, t_splsda]]\n",
    "multiomics = [remap_identifiers(x, fmap) for x in [l_diablo, m_diablo, p_diablo, t_diablo]]\n",
    "[x.shape for x in multiomics]"
   ]
  },
  {
   "cell_type": "markdown",
   "metadata": {},
   "source": [
    "## Investigate how many of our single omics features match the original data (219 informative features)"
   ]
  },
  {
   "cell_type": "code",
   "execution_count": 6,
   "metadata": {},
   "outputs": [
    {
     "data": {
      "text/plain": [
       "[2, 0, 0, 0]"
      ]
     },
     "execution_count": 6,
     "metadata": {},
     "output_type": "execute_result"
    }
   ],
   "source": [
    "def compare_data(old, new):\n",
    "    return old.merge(new, left_index=True, right_index=True, how=\"left\")\n",
    "\n",
    "# load in the most informative features identified by the original analysis\n",
    "features = pd.read_csv(features_path, sep=\"\\t\").set_index(\"standardized_name\")\n",
    "features.index.name = None\n",
    "features.index = [x.strip() for x in features.index.tolist()]\n",
    "\n",
    "# investigate how many single omics features match the authors data\n",
    "# for lipidomics, metabolomics, proteomics, transcriptomics respectively\n",
    "[compare_data(features, x).importance.nunique() for x in singleomics]"
   ]
  },
  {
   "cell_type": "markdown",
   "metadata": {},
   "source": [
    "## Investigate how many of our multi omics features match the original data (219 informative features)"
   ]
  },
  {
   "cell_type": "code",
   "execution_count": 7,
   "metadata": {},
   "outputs": [
    {
     "data": {
      "text/plain": [
       "[2, 0, 0, 0]"
      ]
     },
     "execution_count": 7,
     "metadata": {},
     "output_type": "execute_result"
    }
   ],
   "source": [
    "# investigate how many multi omics features match the authors data\n",
    "# for lipidomics, metabolomics, proteomics, transcriptomics respectively\n",
    "[compare_data(features, x).importance.nunique() for x in multiomics]"
   ]
  },
  {
   "cell_type": "code",
   "execution_count": 8,
   "metadata": {},
   "outputs": [
    {
     "data": {
      "text/html": [
       "<div>\n",
       "<style scoped>\n",
       "    .dataframe tbody tr th:only-of-type {\n",
       "        vertical-align: middle;\n",
       "    }\n",
       "\n",
       "    .dataframe tbody tr th {\n",
       "        vertical-align: top;\n",
       "    }\n",
       "\n",
       "    .dataframe thead th {\n",
       "        text-align: right;\n",
       "    }\n",
       "</style>\n",
       "<table border=\"1\" class=\"dataframe\">\n",
       "  <thead>\n",
       "    <tr style=\"text-align: right;\">\n",
       "      <th></th>\n",
       "      <th>Feature_1</th>\n",
       "      <th>Feature_2</th>\n",
       "      <th>Correlation</th>\n",
       "    </tr>\n",
       "  </thead>\n",
       "  <tbody>\n",
       "    <tr>\n",
       "      <th>5589</th>\n",
       "      <td>PGD</td>\n",
       "      <td>PGD</td>\n",
       "      <td>0.922219</td>\n",
       "    </tr>\n",
       "    <tr>\n",
       "      <th>1701</th>\n",
       "      <td>unknown RT 16.698449</td>\n",
       "      <td>unknown RT 16.698449</td>\n",
       "      <td>0.922152</td>\n",
       "    </tr>\n",
       "    <tr>\n",
       "      <th>5541</th>\n",
       "      <td>PGD</td>\n",
       "      <td>unknown RT 16.698449</td>\n",
       "      <td>0.919925</td>\n",
       "    </tr>\n",
       "    <tr>\n",
       "      <th>1749</th>\n",
       "      <td>unknown RT 16.698449</td>\n",
       "      <td>PGD</td>\n",
       "      <td>0.919925</td>\n",
       "    </tr>\n",
       "    <tr>\n",
       "      <th>4617</th>\n",
       "      <td>H6PD</td>\n",
       "      <td>H6PD</td>\n",
       "      <td>0.918531</td>\n",
       "    </tr>\n",
       "    <tr>\n",
       "      <th>...</th>\n",
       "      <td>...</td>\n",
       "      <td>...</td>\n",
       "      <td>...</td>\n",
       "    </tr>\n",
       "    <tr>\n",
       "      <th>6389</th>\n",
       "      <td>ZNF527</td>\n",
       "      <td>PGD</td>\n",
       "      <td>-0.893038</td>\n",
       "    </tr>\n",
       "    <tr>\n",
       "      <th>4639</th>\n",
       "      <td>H6PD</td>\n",
       "      <td>ZNF527</td>\n",
       "      <td>-0.893972</td>\n",
       "    </tr>\n",
       "    <tr>\n",
       "      <th>6377</th>\n",
       "      <td>ZNF527</td>\n",
       "      <td>H6PD</td>\n",
       "      <td>-0.893972</td>\n",
       "    </tr>\n",
       "    <tr>\n",
       "      <th>6341</th>\n",
       "      <td>ZNF527</td>\n",
       "      <td>unknown RT 16.698449</td>\n",
       "      <td>-0.897951</td>\n",
       "    </tr>\n",
       "    <tr>\n",
       "      <th>1759</th>\n",
       "      <td>unknown RT 16.698449</td>\n",
       "      <td>ZNF527</td>\n",
       "      <td>-0.897951</td>\n",
       "    </tr>\n",
       "  </tbody>\n",
       "</table>\n",
       "<p>6400 rows × 3 columns</p>\n",
       "</div>"
      ],
      "text/plain": [
       "                 Feature_1             Feature_2  Correlation\n",
       "5589                   PGD                   PGD     0.922219\n",
       "1701  unknown RT 16.698449  unknown RT 16.698449     0.922152\n",
       "5541                   PGD  unknown RT 16.698449     0.919925\n",
       "1749  unknown RT 16.698449                   PGD     0.919925\n",
       "4617                  H6PD                  H6PD     0.918531\n",
       "...                    ...                   ...          ...\n",
       "6389                ZNF527                   PGD    -0.893038\n",
       "4639                  H6PD                ZNF527    -0.893972\n",
       "6377                ZNF527                  H6PD    -0.893972\n",
       "6341                ZNF527  unknown RT 16.698449    -0.897951\n",
       "1759  unknown RT 16.698449                ZNF527    -0.897951\n",
       "\n",
       "[6400 rows x 3 columns]"
      ]
     },
     "execution_count": 8,
     "metadata": {},
     "output_type": "execute_result"
    }
   ],
   "source": [
    "# reformat the correlation matrix to a more readable format\n",
    "diablo_flat = diablo.stack().reset_index()\n",
    "diablo_flat = diablo_flat.merge(fmap, left_on=\"level_0\", right_index=True, how=\"left\")\n",
    "diablo_flat.drop([\"level_0\"], axis=1, inplace=True)\n",
    "diablo_flat = diablo_flat.merge(fmap, left_on=\"level_1\", right_index=True, how=\"left\")\n",
    "diablo_flat.drop([\"level_1\"], axis=1, inplace=True)\n",
    "diablo_flat = diablo_flat[[\"long_x\", \"long_y\", 0]].sort_values(0, ascending=False)\n",
    "diablo_flat.columns = [\"Feature_1\", \"Feature_2\", \"Correlation\"]\n",
    "diablo_flat"
   ]
  },
  {
   "cell_type": "markdown",
   "metadata": {},
   "source": [
    "## Compare our highly correlating multi-omics feature values to original data (219 informative features)"
   ]
  },
  {
   "cell_type": "code",
   "execution_count": 9,
   "metadata": {},
   "outputs": [
    {
     "data": {
      "text/plain": [
       "2"
      ]
     },
     "execution_count": 9,
     "metadata": {},
     "output_type": "execute_result"
    }
   ],
   "source": [
    "# how many of our highly correlating values match the authors?\n",
    "feature_list = diablo_flat[\"Feature_1\"].unique()\n",
    "\n",
    "feat_1 = features.merge(diablo_flat, left_index=True, right_on=\"Feature_1\", how=\"left\")\n",
    "feat_1 = feat_1[feat_1.Correlation.notnull()]\n",
    "\n",
    "feat_2 = features.merge(diablo_flat, left_index=True, right_on=\"Feature_2\", how=\"left\")\n",
    "feat_2 = feat_2[feat_2.Correlation.notnull()]\n",
    "\n",
    "feat_intersect = pd.concat([feat_1, feat_2]).reset_index().drop(\"index\", axis=1)\n",
    "feat_intersect.biomolecule_id.nunique()"
   ]
  },
  {
   "cell_type": "markdown",
   "metadata": {},
   "source": [
    "## Find highly +ve/-ve correlations for drug target search (downstream analysis)"
   ]
  },
  {
   "cell_type": "code",
   "execution_count": 10,
   "metadata": {},
   "outputs": [
    {
     "data": {
      "text/html": [
       "<div>\n",
       "<style scoped>\n",
       "    .dataframe tbody tr th:only-of-type {\n",
       "        vertical-align: middle;\n",
       "    }\n",
       "\n",
       "    .dataframe tbody tr th {\n",
       "        vertical-align: top;\n",
       "    }\n",
       "\n",
       "    .dataframe thead th {\n",
       "        text-align: right;\n",
       "    }\n",
       "</style>\n",
       "<table border=\"1\" class=\"dataframe\">\n",
       "  <thead>\n",
       "    <tr style=\"text-align: right;\">\n",
       "      <th></th>\n",
       "      <th>0</th>\n",
       "    </tr>\n",
       "  </thead>\n",
       "  <tbody>\n",
       "    <tr>\n",
       "      <th>0</th>\n",
       "      <td>PGD</td>\n",
       "    </tr>\n",
       "    <tr>\n",
       "      <th>1</th>\n",
       "      <td>H6PD</td>\n",
       "    </tr>\n",
       "    <tr>\n",
       "      <th>2</th>\n",
       "      <td>C1orf226</td>\n",
       "    </tr>\n",
       "    <tr>\n",
       "      <th>3</th>\n",
       "      <td>ZNF527</td>\n",
       "    </tr>\n",
       "    <tr>\n",
       "      <th>4</th>\n",
       "      <td>Quinolinic acid, bis(trimethylsilyl) ester RT1...</td>\n",
       "    </tr>\n",
       "    <tr>\n",
       "      <th>...</th>\n",
       "      <td>...</td>\n",
       "    </tr>\n",
       "    <tr>\n",
       "      <th>65</th>\n",
       "      <td>LOC100130520</td>\n",
       "    </tr>\n",
       "    <tr>\n",
       "      <th>66</th>\n",
       "      <td>X6R8F3</td>\n",
       "    </tr>\n",
       "    <tr>\n",
       "      <th>67</th>\n",
       "      <td>P80188</td>\n",
       "    </tr>\n",
       "    <tr>\n",
       "      <th>68</th>\n",
       "      <td>P80188-2</td>\n",
       "    </tr>\n",
       "    <tr>\n",
       "      <th>69</th>\n",
       "      <td>CYFIP2</td>\n",
       "    </tr>\n",
       "  </tbody>\n",
       "</table>\n",
       "<p>70 rows × 1 columns</p>\n",
       "</div>"
      ],
      "text/plain": [
       "                                                    0\n",
       "0                                                 PGD\n",
       "1                                                H6PD\n",
       "2                                            C1orf226\n",
       "3                                              ZNF527\n",
       "4   Quinolinic acid, bis(trimethylsilyl) ester RT1...\n",
       "..                                                ...\n",
       "65                                       LOC100130520\n",
       "66                                             X6R8F3\n",
       "67                                             P80188\n",
       "68                                           P80188-2\n",
       "69                                             CYFIP2\n",
       "\n",
       "[70 rows x 1 columns]"
      ]
     },
     "execution_count": 10,
     "metadata": {},
     "output_type": "execute_result"
    }
   ],
   "source": [
    "# find highly +ve/-ve correlations for drug target search\n",
    "high_corr = diablo_flat[(diablo_flat.Correlation >= 0.5) | (diablo_flat.Correlation <= -0.5)]\n",
    "high_features = pd.DataFrame(high_corr[[\"Feature_1\", \"Feature_2\"]].stack().unique())\n",
    "outfile_path = \"/\".join([results_dir, \"high_correlated_features.txt\"])\n",
    "\n",
    "# map unknowns to putative unknowns\n",
    "putative_unknowns = pd.read_csv(unknowns_path, sep=\"\\t\", skiprows=1)\n",
    "putative_unknowns = putative_unknowns[[\"standardized_name\", \"Name\"]]\n",
    "high_features = high_features.merge(putative_unknowns, left_on=0, right_on=\"standardized_name\", how=\"left\")\n",
    "renamed = high_features[high_features.standardized_name.notnull()]\n",
    "for i in renamed.index:\n",
    "    high_features.loc[i] = renamed.loc[i][\"Name\"]\n",
    "high_features.drop([\"standardized_name\", \"Name\"], axis=1, inplace=True)\n",
    "high_features = high_features[~high_features[0].str.startswith(\"unknown\")]\n",
    "high_features = high_features[~high_features[0].str.startswith(\"Unknown\")]\n",
    "\n",
    "# some features are represented as a concatenation of multiple features\n",
    "high_features = high_features[0].tolist()\n",
    "high_features = [x.split(\";\") for x in high_features]\n",
    "high_features = [x for y in high_features for x in y]\n",
    "high_features = pd.DataFrame(high_features)\n",
    "high_features.to_csv(outfile_path, sep=\"\\t\", index=None, header=None)\n",
    "high_features.shape\n",
    "high_features"
   ]
  },
  {
   "cell_type": "markdown",
   "metadata": {},
   "source": [
    "## Compare our highly correlating multi-omics feature values to authors (features ranked by importance in their tree-based classifier)\n",
    "\n",
    "We show that our highly correlated multi-omics features overlap with highly-scoring features identified by a tree-based classifier in the original analysis. First, we filtered this list by removing all features which were assigned an importance score of 0. Next, we matched the features we discovered through our pipeline to these features found by the original analysis. We find that a subset of 24 features fall above the median score of importance among important features identified in the original analysis. In particular, our pipeline recovers quinolinic acid, which was an important metabolite highlighted in the original study () due to its role in immune function (Heyes et al., 1992; Sofia et al., 2018) and COVID-19 severity (Migaud et al., 2020). Therefore, we show that our pipeline independently recapitulates some of the higher scoring features from an unrelated method which was customised to the experimental context. | As an additional layer of validation, we show that our feature list also overlaps with those yielded by an independent COVID-19 model (Migaud et al., 2020). |\n",
    "\n",
    "Our list of features is comparatively small compared to the full range of feature scores generated by the original study. However, we note that our approach works by selecting subsets of features with cross-validation. When contrasted against the original data, a subset of the most informative features were selected. Furthermore, our generic pipeline is shown to partially recapitulate results obtained from an algorithm which was specifically tailored to thee study. | Therefore, we demonstrate that our aim of providing an agnostic, flexible pipeline for analysing multi-omics data is met. |"
   ]
  },
  {
   "cell_type": "code",
   "execution_count": 11,
   "metadata": {},
   "outputs": [
    {
     "data": {
      "image/png": "[encoded data removed]",
      "text/plain": [
       "<Figure size 432x288 with 1 Axes>"
      ]
     },
     "metadata": {
      "needs_background": "light"
     },
     "output_type": "display_data"
    },
    {
     "name": "stdout",
     "output_type": "stream",
     "text": [
      "Features with positive importance score in original analysis (of all features)=8.090258668134286 %\n"
     ]
    },
    {
     "data": {
      "text/plain": [
       "(24, 2)"
      ]
     },
     "execution_count": 11,
     "metadata": {},
     "output_type": "execute_result"
    }
   ],
   "source": [
    "# where do our features fall in the spectrum of importance shown by an independent tree-based classifier?\n",
    "feature_importance_all = pd.read_csv(feature_importance_all_path, sep=\"\\t\")\n",
    "total_features = feature_importance_all[\"feature importance\"].count()\n",
    "\n",
    "# remove all features with null importance score\n",
    "feature_importance_all = feature_importance_all[feature_importance_all[\"feature importance\"] > 0]\n",
    "\n",
    "# some features are composite (eg different isoforms of same protein)\n",
    "feature_importance_all = pd.DataFrame(pd.concat([pd.Series(row['feature importance'], \n",
    "                                                           row['biomolecule'].split(';')) \n",
    "                                                for _, row in feature_importance_all.iterrows()]))\n",
    "\n",
    "# some features we detect overlap with the authors, show distribution\n",
    "fig, ax = plt.subplots()\n",
    "feature_importance_all.boxplot(color=\"orange\", ax=ax, showfliers=False)\n",
    "intersecting_features = high_features.merge(feature_importance_all, left_on=0, right_index=True)\n",
    "intersecting_features.drop(\"0_x\", axis=1, inplace=True)\n",
    "intersecting_features.columns = [\"index\", \"Feature importance\"]\n",
    "intersecting_features.boxplot(color=\"blue\", showbox=True, ax=ax, showfliers=False)\n",
    "axis_title = \" \".join([\"Blue = our features:\", \n",
    "                       str(intersecting_features.count()[0]),\n",
    "                       \"| Orange = authors features:\",\n",
    "                       str(feature_importance_all.count()[0]),\n",
    "                      ])\n",
    "ax.title.set_text(axis_title)\n",
    "plt.show()\n",
    "\n",
    "percent_important = str((feature_importance_all.count()[0] / total_features) * 100)\n",
    "print(\"\".join([\"Features with positive importance score in original analysis (of all features)=\", \n",
    "               percent_important,\n",
    "              \" %\"]))\n",
    "\n",
    "# features that dont have positive importance scores are also interesting\n",
    "nonintersecting_features = high_features.merge(feature_importance_all, left_on=0, right_index=True, how=\"outer\")\n",
    "nonintersecting_features = nonintersecting_features[nonintersecting_features[\"0_y\"].isna()][\"key_0\"]\n",
    "nonintersecting_features = nonintersecting_features.reset_index().drop(\"index\", axis=1)\n",
    "intersecting_features.shape"
   ]
  },
  {
   "cell_type": "markdown",
   "metadata": {},
   "source": [
    "# Notes\n",
    "\n",
    "The files in the results directory were a concatenation of all features obtained from the analyses. These are available in gitlab in the results directory. To reproduce these files, after running our pipeline navigate to your results directory and run the following commands.\n",
    "\n",
    "## Authors data\n",
    "\n",
    "- [Supplementary table 1](https://www.ncbi.nlm.nih.gov/pmc/articles/PMC7388490/bin/90133-2020.07.17.20156513-2.xlsx) - enriched pathways in each omics\n",
    "- [Supplementary table 2](https://www.ncbi.nlm.nih.gov/pmc/articles/PMC7388490/bin/90133-2020.07.17.20156513-3.xlsx) - unknown features mapped to putative features\n",
    "- [Supplementary table 3](https://www.ncbi.nlm.nih.gov/pmc/articles/PMC7388490/bin/90133-2020.07.17.20156513-4.xlsx) - 219 informative features\n",
    "- [Supplementary table 6](https://www.ncbi.nlm.nih.gov/pmc/articles/PMC7388490/bin/90133-2020.07.17.20156513-7.xlsx) - feature importances identified by a tree-based classifier\n",
    "\n",
    "Files were exported from the excel spreadsheets as tab separated lists of values. Unrecognised byte characters and windows line endings were removed. The clean versions of the files in plain text format are available in the gitlab repository.\n",
    "\n",
    "\n",
    "## Concatenating files to examine features\n",
    "\n",
    "The pipeline outputs features per individual component. We concatenated all these to get the full feature lists returned by `sPLSDA` and `DIABLO`. These files are available in the git repository under `results/MSV000085703/reformatted_output/`\n",
    "\n",
    "```\n",
    "#!/bin/bash\n",
    "head -n1 lipidome_1_sPLSDA_max.txt > lipidome_sPLSDA_max.txt\n",
    "for i in lipidome_[0-9]_sPLSDA_max*; do tail -n +2 $i >> lipidome_sPLSDA_max.txt; done\n",
    "head -n1 metabolome_1_sPLSDA_max.txt > metabolome_sPLSDA_max.txt\n",
    "for i in metabolome_[0-9]_sPLSDA_max*; do tail -n +2 $i >> metabolome_sPLSDA_max.txt; done\n",
    "head -n1 proteome_1_sPLSDA_max.txt > proteome_sPLSDA_max.txt\n",
    "for i in proteome_[0-9]_sPLSDA_max*; do tail -n +2 $i >> proteome_sPLSDA_max.txt; done\n",
    "head -n1 transcriptome_1_sPLSDA_max.txt > transcriptome_sPLSDA_max.txt\n",
    "for i in transcriptome_[0-9]_sPLSDA_max*; do tail -n +2 $i >> transcriptome_sPLSDA_max.txt; done\n",
    "\n",
    "head -n1 lipidome_1_DIABLO_var_keepx_max.txt > lipidome_DIABLO_max.txt\n",
    "for i in lipidome_[0-9]_DIABLO_var_keepx_max*txt; do tail -n +2 $i >> lipidome_DIABLO_max.txt; done\n",
    "head -n1 metabolome_1_DIABLO_var_keepx_max.txt > metabolome_DIABLO_max.txt\n",
    "for i in metabolome_[0-9]_DIABLO_var_keepx_max*txt; do tail -n +2 $i >> metabolome_DIABLO_max.txt; done\n",
    "head -n1 proteome_1_DIABLO_var_keepx_max.txt > proteome_DIABLO_max.txt\n",
    "for i in proteome_[0-9]_DIABLO_var_keepx_max*txt; do tail -n +2 $i >> proteome_DIABLO_max.txt; done\n",
    "head -n1 transcriptome_1_DIABLO_var_keepx_max.txt > transcriptome_DIABLO_max.txt\n",
    "for i in transcriptome_[0-9]_DIABLO_var_keepx_max*txt; do tail -n +2 $i >> transcriptome_DIABLO_max.txt; done\n",
    "\n",
    "# md5sum if on linux machine\n",
    "md5 lipidome_sPLSDA_max.txt metabolome_sPLSDA_max.txt proteome_sPLSDA_max.txt transcriptome_sPLSDA_max.txt \\\n",
    "  lipidome_DIABLO_max.txt metabolome_DIABLO_max.txt proteome_DIABLO_max.txt transcriptome_DIABLO_max.txt\n",
    "\n",
    "MD5 (lipidome_sPLSDA_max.txt) = 46ad9dde93559c35bf4026184761675b\n",
    "MD5 (metabolome_sPLSDA_max.txt) = 53001f373a9163a8d1dea70f72546a08\n",
    "MD5 (proteome_sPLSDA_max.txt) = b336b47e238de50d32e0b3a523e07fd9\n",
    "MD5 (transcriptome_sPLSDA_max.txt) = 9d704fd469f985c17ac1ce907ce3ec37\n",
    "MD5 (lipidome_DIABLO_max.txt) = aaba4c96a3fcc77079da1652ae2c5a2d\n",
    "MD5 (metabolome_DIABLO_max.txt) = cfec4e72698cc3e6b90a5452a6ee4c76\n",
    "MD5 (proteome_DIABLO_max.txt) = 0b7879b44dc349663e6b2aa6e4ce8732\n",
    "MD5 (transcriptome_DIABLO_max.txt) = 6c809bc489ffb8ff433de1b0d14bd2bb\n",
    "```\n",
    "\n",
    "## Passing results to a drug target search database\n",
    "\n",
    "```\n",
    "# put these directly into a drug target search database\n",
    "wget 'http://unmtid-shinyapps.net/download/drug.target.interaction.tsv.gz'\n",
    "\n",
    "# some rows have multiple molecules - also note that mostly proteins are in this database\n",
    "(head -n1 drug.target.interaction.tsv; grep -f ../../results/MSV000085703/reformatted_output/high_correlated_features.txt drug.target.interaction.tsv | grep -v MOUSE) | tr -d '\"' > ../../results/MSV000085703/reformatted_output/potential_drugs.txt\n",
    "```"
   ]
  },
  {
   "cell_type": "code",
   "execution_count": null,
   "metadata": {},
   "outputs": [],
   "source": []
  }
 ],
 "metadata": {
  "kernelspec": {
   "display_name": "Python 3",
   "language": "python",
   "name": "python3"
  },
  "language_info": {
   "codemirror_mode": {
    "name": "ipython",
    "version": 3
   },
   "file_extension": ".py",
   "mimetype": "text/x-python",
   "name": "python",
   "nbconvert_exporter": "python",
   "pygments_lexer": "ipython3",
   "version": "3.8.2"
  }
 },
 "nbformat": 4,
 "nbformat_minor": 4
}
