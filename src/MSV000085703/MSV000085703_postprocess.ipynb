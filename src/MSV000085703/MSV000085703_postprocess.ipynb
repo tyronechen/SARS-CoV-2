{
 "cells": [
  {
   "cell_type": "markdown",
   "metadata": {},
   "source": [
    "# Postprocessing data from the reanalysis of the COVID-19 multiomics project\n",
    "\n",
    "As part of the case study associated with the data found in https://dx.doi.org/10.1101%2F2020.07.17.20156513, we compare the features discovered by the authors and us.\n",
    "\n",
    "## Summary of our analysis\n",
    "\n",
    "With our pipeline, we analysed the omics data from the original publication, comparing the severity of COVID-19 states (less severe vs more severe) according to the previously described `HFD-45` metric by the authors. We obtained informative features both within and across the omics data. Then, we compare the features identified from our single-omics analyses, multi-omics analyses, and the authors results."
   ]
  },
  {
   "cell_type": "code",
   "execution_count": 1,
   "metadata": {},
   "outputs": [],
   "source": [
    "import os\n",
    "import re\n",
    "import pandas as pd"
   ]
  },
  {
   "cell_type": "code",
   "execution_count": 2,
   "metadata": {},
   "outputs": [],
   "source": [
    "# setup all file paths\n",
    "data_dir = \"../../data/MSV000085703/\"\n",
    "results_dir = \"../../results/MSV000085703/MSV_4M_01/\"\n",
    "\n",
    "original_path = \"/\".join([\"../../results/MSV000085703\", \"supp_table_3.txt\"])\n",
    "\n",
    "l_fmap_path = \"/\".join([data_dir, \"lipidomics_featuremap.tsv\"]) \n",
    "md_fmap_path = \"/\".join([data_dir, \"metabolomicsdiscovery_featuremap.tsv\"]) \n",
    "mt_fmap_path = \"/\".join([data_dir, \"metabolomicstargeted_featuremap.tsv\"]) \n",
    "p_fmap_path = \"/\".join([data_dir, \"proteomics_featuremap.tsv\"]) \n",
    "t_fmap_path = \"/\".join([data_dir, \"transcriptomics_featuremap.tsv\"]) \n",
    "\n",
    "l_splsda_path = \"/\".join([results_dir, \"lipidomics_sPLSDA_max.txt\"])\n",
    "m_splsda_path = \"/\".join([results_dir, \"metabolomics_sPLSDA_max.txt\"])\n",
    "p_splsda_path = \"/\".join([results_dir, \"proteomics_sPLSDA_max.txt\"])\n",
    "t_splsda_path = \"/\".join([results_dir, \"transcriptomics_sPLSDA_max.txt\"])\n",
    "\n",
    "l_diablo_path = \"/\".join([results_dir, \"lipidomics_DIABLO_max.txt\"])\n",
    "m_diablo_path = \"/\".join([results_dir, \"metabolomics_DIABLO_max.txt\"])\n",
    "p_diablo_path = \"/\".join([results_dir, \"proteomics_DIABLO_max.txt\"])\n",
    "t_diablo_path = \"/\".join([results_dir, \"transcriptomics_DIABLO_max.txt\"])\n",
    "\n",
    "diablo_path = \"/\".join([results_dir, \"DIABLO_var_keepx_correlations.txt\"])"
   ]
  },
  {
   "cell_type": "code",
   "execution_count": 3,
   "metadata": {},
   "outputs": [],
   "source": [
    "# load the single omics data\n",
    "l_splsda = pd.read_csv(l_splsda_path, sep=\"\\t\")\n",
    "m_splsda = pd.read_csv(m_splsda_path, sep=\"\\t\")\n",
    "p_splsda = pd.read_csv(p_splsda_path, sep=\"\\t\")\n",
    "t_splsda = pd.read_csv(t_splsda_path, sep=\"\\t\")\n",
    "\n",
    "# load the multi omics data\n",
    "l_diablo = pd.read_csv(l_diablo_path, sep=\"\\t\")\n",
    "m_diablo = pd.read_csv(m_diablo_path, sep=\"\\t\")\n",
    "p_diablo = pd.read_csv(p_diablo_path, sep=\"\\t\")\n",
    "t_diablo = pd.read_csv(t_diablo_path, sep=\"\\t\")\n",
    "\n",
    "# load the diablo correlations\n",
    "diablo = pd.read_csv(diablo_path, sep=\"\\t\")"
   ]
  },
  {
   "cell_type": "code",
   "execution_count": 4,
   "metadata": {},
   "outputs": [],
   "source": [
    "# for technical reasons, we shortened names\n",
    "# we saved the mappings before running the pipeline, now we remap them\n",
    "l_fmap = pd.read_csv(l_fmap_path, sep=\"\\t\")[[\"short\", \"long\"]].set_index(\"short\")\n",
    "md_fmap = pd.read_csv(md_fmap_path, sep=\"\\t\")[[\"short\", \"long\"]].set_index(\"short\")\n",
    "mt_fmap = pd.read_csv(mt_fmap_path, sep=\"\\t\")[[\"short\", \"long\"]].set_index(\"short\")\n",
    "p_fmap = pd.read_csv(p_fmap_path, sep=\"\\t\")[[\"short\", \"long\"]].set_index(\"short\")\n",
    "t_fmap = pd.read_csv(t_fmap_path, sep=\"\\t\")[[\"short\", \"long\"]].set_index(\"short\")\n",
    "fmap = pd.concat([l_fmap, md_fmap, mt_fmap, p_fmap, t_fmap])\n",
    "fmap.index.name = None\n",
    "\n",
    "# R quietly converts non-alphanumeric characters in feature names to \".\"\n",
    "# we need to match these changes in order to remap\n",
    "fmap.index = [re.sub('[^0-9a-zA-Z_]', '.', x) for x in fmap.index]"
   ]
  },
  {
   "cell_type": "code",
   "execution_count": 5,
   "metadata": {},
   "outputs": [],
   "source": [
    "def remap_identifiers(data, keys):\n",
    "    data = keys.merge(data, left_index=True, right_index=True, how=\"right\")\n",
    "    data.set_index(\"long\", inplace=True)\n",
    "    data.sort_values(\"importance\", inplace=True, ascending=False)\n",
    "    data.index.name = None\n",
    "    return data[[\"GroupContrib\", \"importance\"]]\n",
    "\n",
    "singleomics = [remap_identifiers(x, fmap) for x in [l_splsda, m_splsda, p_splsda, t_splsda]]\n",
    "# multiomics = [remap_identifiers(x, fmap) for x in [l_diablo, m_diablo, p_diablo, t_diablo]]"
   ]
  },
  {
   "cell_type": "code",
   "execution_count": 6,
   "metadata": {},
   "outputs": [
    {
     "data": {
      "text/plain": [
       "[3, 3, 6, 0]"
      ]
     },
     "execution_count": 6,
     "metadata": {},
     "output_type": "execute_result"
    }
   ],
   "source": [
    "def compare_data(old, new):\n",
    "    return old.merge(new, left_index=True, right_index=True, how=\"left\")\n",
    "\n",
    "# load in the most informative features identified by the original analysis\n",
    "original = pd.read_csv(original_path, sep=\"\\t\").set_index(\"standardized_name\")\n",
    "original.index.name = None\n",
    "original.index = [x.strip() for x in original.index.tolist()]\n",
    "\n",
    "# investigate how many single omics features match the authors data\n",
    "[compare_data(original, x).importance.nunique() for x in singleomics]"
   ]
  },
  {
   "cell_type": "code",
   "execution_count": 7,
   "metadata": {},
   "outputs": [
    {
     "data": {
      "text/html": [
       "<div>\n",
       "<style scoped>\n",
       "    .dataframe tbody tr th:only-of-type {\n",
       "        vertical-align: middle;\n",
       "    }\n",
       "\n",
       "    .dataframe tbody tr th {\n",
       "        vertical-align: top;\n",
       "    }\n",
       "\n",
       "    .dataframe thead th {\n",
       "        text-align: right;\n",
       "    }\n",
       "</style>\n",
       "<table border=\"1\" class=\"dataframe\">\n",
       "  <thead>\n",
       "    <tr style=\"text-align: right;\">\n",
       "      <th></th>\n",
       "      <th>Feature_1</th>\n",
       "      <th>Feature_2</th>\n",
       "      <th>Correlation</th>\n",
       "    </tr>\n",
       "  </thead>\n",
       "  <tbody>\n",
       "    <tr>\n",
       "      <th>1216</th>\n",
       "      <td>unknown RT 16.698449</td>\n",
       "      <td>unknown RT 16.698449</td>\n",
       "      <td>0.936421</td>\n",
       "    </tr>\n",
       "    <tr>\n",
       "      <th>4591</th>\n",
       "      <td>PGD</td>\n",
       "      <td>unknown RT 16.698449</td>\n",
       "      <td>0.930865</td>\n",
       "    </tr>\n",
       "    <tr>\n",
       "      <th>1261</th>\n",
       "      <td>unknown RT 16.698449</td>\n",
       "      <td>PGD</td>\n",
       "      <td>0.930865</td>\n",
       "    </tr>\n",
       "    <tr>\n",
       "      <th>4636</th>\n",
       "      <td>PGD</td>\n",
       "      <td>PGD</td>\n",
       "      <td>0.928084</td>\n",
       "    </tr>\n",
       "    <tr>\n",
       "      <th>2812</th>\n",
       "      <td>ANO10</td>\n",
       "      <td>ANO10</td>\n",
       "      <td>0.924443</td>\n",
       "    </tr>\n",
       "    <tr>\n",
       "      <th>...</th>\n",
       "      <td>...</td>\n",
       "      <td>...</td>\n",
       "      <td>...</td>\n",
       "    </tr>\n",
       "    <tr>\n",
       "      <th>3766</th>\n",
       "      <td>HHAT</td>\n",
       "      <td>unknown RT 16.698449</td>\n",
       "      <td>-0.897459</td>\n",
       "    </tr>\n",
       "    <tr>\n",
       "      <th>5611</th>\n",
       "      <td>ZNF527</td>\n",
       "      <td>PGD</td>\n",
       "      <td>-0.897917</td>\n",
       "    </tr>\n",
       "    <tr>\n",
       "      <th>4649</th>\n",
       "      <td>PGD</td>\n",
       "      <td>ZNF527</td>\n",
       "      <td>-0.897917</td>\n",
       "    </tr>\n",
       "    <tr>\n",
       "      <th>1274</th>\n",
       "      <td>unknown RT 16.698449</td>\n",
       "      <td>ZNF527</td>\n",
       "      <td>-0.906509</td>\n",
       "    </tr>\n",
       "    <tr>\n",
       "      <th>5566</th>\n",
       "      <td>ZNF527</td>\n",
       "      <td>unknown RT 16.698449</td>\n",
       "      <td>-0.906509</td>\n",
       "    </tr>\n",
       "  </tbody>\n",
       "</table>\n",
       "<p>5625 rows × 3 columns</p>\n",
       "</div>"
      ],
      "text/plain": [
       "                 Feature_1             Feature_2  Correlation\n",
       "1216  unknown RT 16.698449  unknown RT 16.698449     0.936421\n",
       "4591                   PGD  unknown RT 16.698449     0.930865\n",
       "1261  unknown RT 16.698449                   PGD     0.930865\n",
       "4636                   PGD                   PGD     0.928084\n",
       "2812                 ANO10                 ANO10     0.924443\n",
       "...                    ...                   ...          ...\n",
       "3766                  HHAT  unknown RT 16.698449    -0.897459\n",
       "5611                ZNF527                   PGD    -0.897917\n",
       "4649                   PGD                ZNF527    -0.897917\n",
       "1274  unknown RT 16.698449                ZNF527    -0.906509\n",
       "5566                ZNF527  unknown RT 16.698449    -0.906509\n",
       "\n",
       "[5625 rows x 3 columns]"
      ]
     },
     "execution_count": 7,
     "metadata": {},
     "output_type": "execute_result"
    }
   ],
   "source": [
    "# reformat the correlation matrix to a more readable format\n",
    "diablo_flat = diablo.stack().reset_index()\n",
    "diablo_flat = diablo_flat.merge(fmap, left_on=\"level_0\", right_index=True, how=\"left\")\n",
    "diablo_flat.drop([\"level_0\"], axis=1, inplace=True)\n",
    "diablo_flat = diablo_flat.merge(fmap, left_on=\"level_1\", right_index=True, how=\"left\")\n",
    "diablo_flat.drop([\"level_1\"], axis=1, inplace=True)\n",
    "diablo_flat = diablo_flat[[\"long_x\", \"long_y\", 0]].sort_values(0, ascending=False)\n",
    "diablo_flat.columns = [\"Feature_1\", \"Feature_2\", \"Correlation\"]\n",
    "diablo_flat"
   ]
  },
  {
   "cell_type": "code",
   "execution_count": 8,
   "metadata": {},
   "outputs": [
    {
     "data": {
      "text/plain": [
       "1"
      ]
     },
     "execution_count": 8,
     "metadata": {},
     "output_type": "execute_result"
    }
   ],
   "source": [
    "# do our highly correlating values match the authors?\n",
    "feature_list = diablo_flat[\"Feature_1\"].unique()#.str.strip().tolist()\n",
    "\n",
    "feat_1 = original.merge(diablo_flat, left_index=True, right_on=\"Feature_1\", how=\"left\")\n",
    "feat_1 = feat_1[feat_1.Correlation.notnull()]\n",
    "\n",
    "feat_2 = original.merge(diablo_flat, left_index=True, right_on=\"Feature_2\", how=\"left\")\n",
    "feat_2 = feat_2[feat_2.Correlation.notnull()]\n",
    "\n",
    "feat_intersect = pd.concat([feat_1, feat_2]).reset_index().drop(\"index\", axis=1)\n",
    "feat_intersect.biomolecule_id.nunique()"
   ]
  },
  {
   "cell_type": "markdown",
   "metadata": {},
   "source": [
    "# Notes\n",
    "\n",
    "The files in the results directory were a concatenation of all features obtained from the analyses. These are available in gitlab in the results directory. To reproduce these files, after running our pipeline navigate to your results directory and run the following commands.\n",
    "\n",
    "```\n",
    "head -n1 lipidomics_1_sPLSDA_max.txt > lipidomics_sPLSDA_max.txt\n",
    "for i in lipidomics_[0-9]_sPLSDA_max*; do tail -n +2 $i >> lipidomics_sPLSDA_max.txt; done\n",
    "head -n1 metabolomics_1_sPLSDA_max.txt > metabolomics_sPLSDA_max.txt\n",
    "for i in metabolomics_[0-9]_sPLSDA_max*; do tail -n +2 $i >> metabolomics_sPLSDA_max.txt; done\n",
    "head -n1 proteomics_1_sPLSDA_max.txt > proteomics_sPLSDA_max.txt\n",
    "for i in proteomics_[0-9]_sPLSDA_max*; do tail -n +2 $i >> proteomics_sPLSDA_max.txt; done\n",
    "head -n1 transcriptomics_1_sPLSDA_max.txt > transcriptomics_sPLSDA_max.txt\n",
    "for i in transcriptomics_[0-9]_sPLSDA_max*; do tail -n +2 $i >> transcriptomics_sPLSDA_max.txt; done\n",
    "\n",
    "head -n1 lipidomics_1_DIABLO_var_keepx_max.txt > lipidomics_DIABLO_max.txt\n",
    "for i in lipidomics_[0-9]_DIABLO_var_keepx_max*txt; do tail -n +2 $i >> lipidomics_DIABLO_max.txt; done\n",
    "head -n1 metabolomics_1_DIABLO_var_keepx_max.txt > metabolomics_DIABLO_max.txt\n",
    "for i in metabolomics_[0-9]_DIABLO_var_keepx_max*txt; do tail -n +2 $i >> metabolomics_DIABLO_max.txt; done\n",
    "head -n1 proteomics_1_DIABLO_var_keepx_max.txt > proteomics_DIABLO_max.txt\n",
    "for i in proteomics_[0-9]_DIABLO_var_keepx_max*txt; do tail -n +2 $i >> proteomics_DIABLO_max.txt; done\n",
    "head -n1 transcriptomics_1_DIABLO_var_keepx_max.txt > transcriptomics_DIABLO_max.txt\n",
    "for i in transcriptomics_[0-9]_DIABLO_var_keepx_max*txt; do tail -n +2 $i >> transcriptomics_DIABLO_max.txt; done\n",
    "```"
   ]
  },
  {
   "cell_type": "code",
   "execution_count": null,
   "metadata": {},
   "outputs": [],
   "source": []
  }
 ],
 "metadata": {
  "kernelspec": {
   "display_name": "Python 3",
   "language": "python",
   "name": "python3"
  },
  "language_info": {
   "codemirror_mode": {
    "name": "ipython",
    "version": 3
   },
   "file_extension": ".py",
   "mimetype": "text/x-python",
   "name": "python",
   "nbconvert_exporter": "python",
   "pygments_lexer": "ipython3",
   "version": "3.8.2"
  }
 },
 "nbformat": 4,
 "nbformat_minor": 4
}
