{
 "cells": [
  {
   "cell_type": "markdown",
   "metadata": {},
   "source": [
    "# Multi-omics analysis of SARS-Cov-2\n",
    "\n",
    "Integrate multi-omics data for SARS-Cov-2.\n",
    "\n",
    "Data obtained from:\n",
    "\n",
    "- [SARS-CoV-2 infected host cell proteomics reveal potential therapy targets](DOI:10.21203/rs.3.rs-17218/v1)\n",
    "  Denisa Bojkova, Kevin Klann, Benjamin Koch, Marek Widera, David Krause, Sandra Ciesek, Jindrich Cinatl, Christian Münch\n",
    "\n",
    "[Supp table 1](https://assets.researchsquare.com/files/rs-17218/v1/Supplementary%20Table%2001.xlsx)\n",
    "[Supp table 2](https://assets.researchsquare.com/files/rs-17218/v1/Supplementary%20Table%2002.xlsx)"
   ]
  },
  {
   "cell_type": "code",
   "execution_count": 2,
   "metadata": {},
   "outputs": [],
   "source": [
    "import re\n",
    "import pandas as pd"
   ]
  },
  {
   "cell_type": "code",
   "execution_count": 42,
   "metadata": {},
   "outputs": [],
   "source": [
    "proteome_infile = \"../data/proteome.txt\"\n",
    "translatome_infile = \"../data/translatome.txt\"\n",
    "proteome_outfile = \"../data/proteome_diablo.txt\"\n",
    "translatome_outfile = \"../data/translatome_diablo.txt\"\n",
    "classes_outfile = \"../data/classes_diablo.txt\""
   ]
  },
  {
   "cell_type": "code",
   "execution_count": 30,
   "metadata": {},
   "outputs": [
    {
     "data": {
      "text/plain": [
       "Index(['Control 2h', 'Control 2h', 'Control 2h', 'Control 6h', 'Control 6h',\n",
       "       'Control 6h', 'Control 10h', 'Control 10h', 'Control 10h',\n",
       "       'Control 24h', 'Control 24h', 'Control 24h', 'Virus 2h', 'Virus 2h',\n",
       "       'Virus 2h', 'Virus 6h', 'Virus 6h', 'Virus 6h', 'Virus 10h',\n",
       "       'Virus 10h', 'Virus 10h', 'Virus 24h', 'Virus 24h', 'Virus 24h'],\n",
       "      dtype='object')"
      ]
     },
     "execution_count": 30,
     "metadata": {},
     "output_type": "execute_result"
    }
   ],
   "source": [
    "proteome = pd.read_csv(proteome_infile, sep=\"\\t\")\n",
    "proteome_classes = proteome.rename(columns=lambda x: re.sub('_.*','',x)).columns[2:26]\n",
    "proteome.rename(columns=lambda x: re.sub(' ', '_', x), inplace=True)\n",
    "proteome.rename(columns=lambda x: re.sub('_$', '', x), inplace=True)\n",
    "proteome.set_index(\"UniProt_Accession\", inplace=True)\n",
    "proteome.drop(\"Gene_Symbol\", axis=1, inplace=True)\n",
    "proteome_diablo = proteome.iloc[:,:24].T\n",
    "proteome_diablo.to_csv(proteome_outfile, sep=\"\\t\")\n",
    "proteome_diablo"
   ]
  },
  {
   "cell_type": "code",
   "execution_count": 34,
   "metadata": {
    "scrolled": false
   },
   "outputs": [
    {
     "data": {
      "text/plain": [
       "Index(['Control 2h', 'Control 2h', 'Control 2h', 'Control 6h', 'Control 6h',\n",
       "       'Control 6h', 'Control 10h', 'Control 10h', 'Control 10h',\n",
       "       'Control 24h', 'Control 24h', 'Control 24h', 'Virus 2h', 'Virus 2h',\n",
       "       'Virus 2h', 'Virus 6h', 'Virus 6h', 'Virus 6h', 'Virus 10h',\n",
       "       'Virus 10h', 'Virus 10h', 'Virus 24h', 'Virus 24h', 'Virus 24h'],\n",
       "      dtype='object')"
      ]
     },
     "execution_count": 34,
     "metadata": {},
     "output_type": "execute_result"
    }
   ],
   "source": [
    "translatome = pd.read_csv(translatome_infile, sep=\"\\t\")\n",
    "translatome_classes = translatome.rename(columns=lambda x: re.sub('_.*','',x)).columns[3:27]\n",
    "translatome.rename(columns=lambda x: re.sub(' ', '_', x), inplace=True)\n",
    "translatome.rename(columns=lambda x: re.sub('_$', '', x), inplace=True)\n",
    "translatome.set_index(\"Accession\", inplace=True)\n",
    "translatome.drop([\"Gene_Symbol01\", \"Species_Names01\"], axis=1, inplace=True)#.isnull().values.any()\n",
    "translatome_diablo = translatome.iloc[:,:24].T\n",
    "translatome_diablo.replace([\"#DIV/0!\", \"#NUM!\", None], 0, inplace=True)\n",
    "translatome_diablo.replace(\" \", \"_\", inplace=True)\n",
    "translatome_diablo.to_csv(translatome_outfile, sep=\"\\t\")\n",
    "translatome_diablo\n",
    "translatome_classes"
   ]
  },
  {
   "cell_type": "code",
   "execution_count": 35,
   "metadata": {},
   "outputs": [
    {
     "data": {
      "text/plain": [
       "array([ True,  True,  True,  True,  True,  True,  True,  True,  True,\n",
       "        True,  True,  True,  True,  True,  True,  True,  True,  True,\n",
       "        True,  True,  True,  True,  True,  True])"
      ]
     },
     "execution_count": 35,
     "metadata": {},
     "output_type": "execute_result"
    }
   ],
   "source": [
    "proteome_classes == translatome_classes"
   ]
  },
  {
   "cell_type": "code",
   "execution_count": 44,
   "metadata": {},
   "outputs": [
    {
     "data": {
      "text/html": [
       "<div>\n",
       "<style scoped>\n",
       "    .dataframe tbody tr th:only-of-type {\n",
       "        vertical-align: middle;\n",
       "    }\n",
       "\n",
       "    .dataframe tbody tr th {\n",
       "        vertical-align: top;\n",
       "    }\n",
       "\n",
       "    .dataframe thead th {\n",
       "        text-align: right;\n",
       "    }\n",
       "</style>\n",
       "<table border=\"1\" class=\"dataframe\">\n",
       "  <thead>\n",
       "    <tr style=\"text-align: right;\">\n",
       "      <th></th>\n",
       "      <th>0</th>\n",
       "    </tr>\n",
       "  </thead>\n",
       "  <tbody>\n",
       "    <tr>\n",
       "      <th>0</th>\n",
       "      <td>Control 2h</td>\n",
       "    </tr>\n",
       "    <tr>\n",
       "      <th>1</th>\n",
       "      <td>Control 2h</td>\n",
       "    </tr>\n",
       "    <tr>\n",
       "      <th>2</th>\n",
       "      <td>Control 2h</td>\n",
       "    </tr>\n",
       "    <tr>\n",
       "      <th>3</th>\n",
       "      <td>Control 6h</td>\n",
       "    </tr>\n",
       "    <tr>\n",
       "      <th>4</th>\n",
       "      <td>Control 6h</td>\n",
       "    </tr>\n",
       "    <tr>\n",
       "      <th>5</th>\n",
       "      <td>Control 6h</td>\n",
       "    </tr>\n",
       "    <tr>\n",
       "      <th>6</th>\n",
       "      <td>Control 10h</td>\n",
       "    </tr>\n",
       "    <tr>\n",
       "      <th>7</th>\n",
       "      <td>Control 10h</td>\n",
       "    </tr>\n",
       "    <tr>\n",
       "      <th>8</th>\n",
       "      <td>Control 10h</td>\n",
       "    </tr>\n",
       "    <tr>\n",
       "      <th>9</th>\n",
       "      <td>Control 24h</td>\n",
       "    </tr>\n",
       "    <tr>\n",
       "      <th>10</th>\n",
       "      <td>Control 24h</td>\n",
       "    </tr>\n",
       "    <tr>\n",
       "      <th>11</th>\n",
       "      <td>Control 24h</td>\n",
       "    </tr>\n",
       "    <tr>\n",
       "      <th>12</th>\n",
       "      <td>Virus 2h</td>\n",
       "    </tr>\n",
       "    <tr>\n",
       "      <th>13</th>\n",
       "      <td>Virus 2h</td>\n",
       "    </tr>\n",
       "    <tr>\n",
       "      <th>14</th>\n",
       "      <td>Virus 2h</td>\n",
       "    </tr>\n",
       "    <tr>\n",
       "      <th>15</th>\n",
       "      <td>Virus 6h</td>\n",
       "    </tr>\n",
       "    <tr>\n",
       "      <th>16</th>\n",
       "      <td>Virus 6h</td>\n",
       "    </tr>\n",
       "    <tr>\n",
       "      <th>17</th>\n",
       "      <td>Virus 6h</td>\n",
       "    </tr>\n",
       "    <tr>\n",
       "      <th>18</th>\n",
       "      <td>Virus 10h</td>\n",
       "    </tr>\n",
       "    <tr>\n",
       "      <th>19</th>\n",
       "      <td>Virus 10h</td>\n",
       "    </tr>\n",
       "    <tr>\n",
       "      <th>20</th>\n",
       "      <td>Virus 10h</td>\n",
       "    </tr>\n",
       "    <tr>\n",
       "      <th>21</th>\n",
       "      <td>Virus 24h</td>\n",
       "    </tr>\n",
       "    <tr>\n",
       "      <th>22</th>\n",
       "      <td>Virus 24h</td>\n",
       "    </tr>\n",
       "    <tr>\n",
       "      <th>23</th>\n",
       "      <td>Virus 24h</td>\n",
       "    </tr>\n",
       "  </tbody>\n",
       "</table>\n",
       "</div>"
      ],
      "text/plain": [
       "              0\n",
       "0    Control 2h\n",
       "1    Control 2h\n",
       "2    Control 2h\n",
       "3    Control 6h\n",
       "4    Control 6h\n",
       "5    Control 6h\n",
       "6   Control 10h\n",
       "7   Control 10h\n",
       "8   Control 10h\n",
       "9   Control 24h\n",
       "10  Control 24h\n",
       "11  Control 24h\n",
       "12     Virus 2h\n",
       "13     Virus 2h\n",
       "14     Virus 2h\n",
       "15     Virus 6h\n",
       "16     Virus 6h\n",
       "17     Virus 6h\n",
       "18    Virus 10h\n",
       "19    Virus 10h\n",
       "20    Virus 10h\n",
       "21    Virus 24h\n",
       "22    Virus 24h\n",
       "23    Virus 24h"
      ]
     },
     "execution_count": 44,
     "metadata": {},
     "output_type": "execute_result"
    }
   ],
   "source": [
    "# proteome_classes and translatome_classes are identical, use either\n",
    "classes = pd.DataFrame(proteome_classes)\n",
    "classes.to_csv(classes_outfile, sep=\"\\t\")\n",
    "classes"
   ]
  },
  {
   "cell_type": "code",
   "execution_count": null,
   "metadata": {},
   "outputs": [],
   "source": []
  }
 ],
 "metadata": {
  "kernelspec": {
   "display_name": "Python [conda env:graph] *",
   "language": "python",
   "name": "conda-env-graph-py"
  },
  "language_info": {
   "codemirror_mode": {
    "name": "ipython",
    "version": 3
   },
   "file_extension": ".py",
   "mimetype": "text/x-python",
   "name": "python",
   "nbconvert_exporter": "python",
   "pygments_lexer": "ipython3",
   "version": "3.7.3"
  }
 },
 "nbformat": 4,
 "nbformat_minor": 2
}
