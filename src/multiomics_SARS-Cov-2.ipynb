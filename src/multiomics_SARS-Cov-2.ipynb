{
 "cells": [
  {
   "cell_type": "markdown",
   "metadata": {},
   "source": [
    "# Multi-omics analysis of SARS-Cov-2\n",
    "\n",
    "Integrate multi-omics data for SARS-Cov-2.\n",
    "\n",
    "Data obtained from:\n",
    "\n",
    "- [SARS-CoV-2 infected host cell proteomics reveal potential therapy targets](DOI:10.21203/rs.3.rs-17218/v1)\n",
    "  Denisa Bojkova, Kevin Klann, Benjamin Koch, Marek Widera, David Krause, Sandra Ciesek, Jindrich Cinatl, Christian Münch\n",
    "\n",
    "[Supp table 1](https://assets.researchsquare.com/files/rs-17218/v1/Supplementary%20Table%2001.xlsx)\n",
    "[Supp table 2](https://assets.researchsquare.com/files/rs-17218/v1/Supplementary%20Table%2002.xlsx)"
   ]
  },
  {
   "cell_type": "code",
   "execution_count": 6,
   "metadata": {},
   "outputs": [],
   "source": [
    "import re\n",
    "import pandas as pd"
   ]
  },
  {
   "cell_type": "code",
   "execution_count": 114,
   "metadata": {},
   "outputs": [],
   "source": [
    "proteome_infile = \"../data/proteome.txt\"\n",
    "translatome_infile = \"../data/translatome.txt\"\n",
    "proteome = pd.read_csv(proteome_path, sep=\"\\t\")\n",
    "translatome = pd.read_csv(translatome_path, sep=\"\\t\")\n",
    "proteome_outfile = \"../data/proteome_diablo.txt\"\n",
    "translatome_outfile = \"../data/translatome_diablo.txt\""
   ]
  },
  {
   "cell_type": "code",
   "execution_count": 134,
   "metadata": {},
   "outputs": [
    {
     "data": {
      "text/plain": [
       "Index(['Control 2h', 'Control 2h', 'Control 2h', 'Control 6h', 'Control 6h',\n",
       "       'Control 6h', 'Control 10h', 'Control 10h', 'Control 10h',\n",
       "       'Control 24h', 'Control 24h', 'Control 24h', 'Virus 2h', 'Virus 2h',\n",
       "       'Virus 2h', 'Virus 6h', 'Virus 6h', 'Virus 6h', 'Virus 10h',\n",
       "       'Virus 10h', 'Virus 10h', 'Virus 24h', 'Virus 24h', 'Virus 24h'],\n",
       "      dtype='object')"
      ]
     },
     "execution_count": 134,
     "metadata": {},
     "output_type": "execute_result"
    }
   ],
   "source": [
    "proteome = pd.read_csv(proteome_infile, sep=\"\\t\")\n",
    "proteome_classes = proteome.rename(columns=lambda x: re.sub('_.*','',x)).columns[2:26]\n",
    "proteome.set_index(\"UniProt Accession\", inplace=True)\n",
    "proteome.drop(\"Gene Symbol\", axis=1, inplace=True)\n",
    "proteome_diablo = proteome.iloc[:,:24].T\n",
    "proteome_diablo.to_csv(proteome_outfile, sep=\"\\t\")\n",
    "proteome_diablo\n",
    "proteome_classes"
   ]
  },
  {
   "cell_type": "code",
   "execution_count": 133,
   "metadata": {
    "scrolled": false
   },
   "outputs": [
    {
     "data": {
      "text/plain": [
       "Index(['Control 2h', 'Control 2h', 'Control 2h', 'Control 6h', 'Control 6h',\n",
       "       'Control 6h', 'Control 10h', 'Control 10h', 'Control 10h',\n",
       "       'Control 24h', 'Control 24h', 'Control 24h', 'Virus 2h', 'Virus 2h',\n",
       "       'Virus 2h', 'Virus 6h', 'Virus 6h', 'Virus 6h', 'Virus 10h',\n",
       "       'Virus 10h', 'Virus 10h', 'Virus 24h', 'Virus 24h', 'Virus 24h'],\n",
       "      dtype='object')"
      ]
     },
     "execution_count": 133,
     "metadata": {},
     "output_type": "execute_result"
    }
   ],
   "source": [
    "translatome = pd.read_csv(translatome_path, sep=\"\\t\")\n",
    "translatome_classes = translatome.rename(columns=lambda x: re.sub('_.*','',x)).columns[3:27]\n",
    "translatome.set_index(\"Accession\", inplace=True)\n",
    "translatome.drop([\"Gene Symbol01\", \"Species Names01\"], axis=1, inplace=True)#.isnull().values.any()\n",
    "translatome_diablo = translatome.iloc[:,:24].T\n",
    "translatome_diablo.replace([\"#DIV/0!\", \"#NUM!\", None], 0, inplace=True)\n",
    "translatome_diablo.to_csv(translatome_outfile, sep=\"\\t\")\n",
    "translatome_diablo\n",
    "translatome_classes"
   ]
  },
  {
   "cell_type": "code",
   "execution_count": 135,
   "metadata": {},
   "outputs": [
    {
     "data": {
      "text/plain": [
       "array([ True,  True,  True,  True,  True,  True,  True,  True,  True,\n",
       "        True,  True,  True,  True,  True,  True,  True,  True,  True,\n",
       "        True,  True,  True,  True,  True,  True])"
      ]
     },
     "execution_count": 135,
     "metadata": {},
     "output_type": "execute_result"
    }
   ],
   "source": [
    "proteome_classes == translatome_classes"
   ]
  },
  {
   "cell_type": "code",
   "execution_count": null,
   "metadata": {},
   "outputs": [],
   "source": []
  }
 ],
 "metadata": {
  "kernelspec": {
   "display_name": "Python [conda env:graph] *",
   "language": "python",
   "name": "conda-env-graph-py"
  },
  "language_info": {
   "codemirror_mode": {
    "name": "ipython",
    "version": 3
   },
   "file_extension": ".py",
   "mimetype": "text/x-python",
   "name": "python",
   "nbconvert_exporter": "python",
   "pygments_lexer": "ipython3",
   "version": "3.7.3"
  }
 },
 "nbformat": 4,
 "nbformat_minor": 2
}
